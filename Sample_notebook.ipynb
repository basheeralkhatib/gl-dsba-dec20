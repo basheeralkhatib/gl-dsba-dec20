{
 "cells": [
  {
   "cell_type": "markdown",
   "id": "rotary-fairy",
   "metadata": {},
   "source": [
    "# Hi I know how to use Git! and Github!"
   ]
  },
  {
   "cell_type": "code",
   "execution_count": 2,
   "id": "fundamental-arrest",
   "metadata": {},
   "outputs": [
    {
     "name": "stdout",
     "output_type": "stream",
     "text": [
      "Hello Python and Data Science!\n"
     ]
    }
   ],
   "source": [
    "print(\"Hello Python and Data Science!\")"
   ]
  },
  {
   "cell_type": "code",
   "execution_count": null,
   "id": "least-cabinet",
   "metadata": {},
   "outputs": [],
   "source": []
  }
 ],
 "metadata": {
  "kernelspec": {
   "display_name": "Python 3",
   "language": "python",
   "name": "python3"
  },
  "language_info": {
   "codemirror_mode": {
    "name": "ipython",
    "version": 3
   },
   "file_extension": ".py",
   "mimetype": "text/x-python",
   "name": "python",
   "nbconvert_exporter": "python",
   "pygments_lexer": "ipython3",
   "version": "3.8.5"
  }
 },
 "nbformat": 4,
 "nbformat_minor": 5
}
